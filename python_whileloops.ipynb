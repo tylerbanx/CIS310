{
 "cells": [
  {
   "cell_type": "markdown",
   "metadata": {},
   "source": [
    "# Tyler Banks\n",
    "## Week 6 - 02/27/2021\n",
    "### Python - While Loops"
   ]
  },
  {
   "cell_type": "markdown",
   "metadata": {},
   "source": [
    "**The general format of python while loops:**\n",
    "\n",
    "<code>while test:\n",
    "        statements"
   ]
  },
  {
   "cell_type": "code",
   "execution_count": 1,
   "metadata": {},
   "outputs": [
    {
     "name": "stdout",
     "output_type": "stream",
     "text": [
      "1\n",
      "2\n",
      "3\n",
      "4\n",
      "5\n"
     ]
    }
   ],
   "source": [
    "num = 1\n",
    "while num < 6:\n",
    "    print(num)\n",
    "    num += 1"
   ]
  },
  {
   "cell_type": "code",
   "execution_count": 2,
   "metadata": {},
   "outputs": [
    {
     "name": "stdout",
     "output_type": "stream",
     "text": [
      "1\n",
      "2\n",
      "3\n",
      "4\n",
      "5\n"
     ]
    }
   ],
   "source": [
    "num = 1\n",
    "while num < 6:\n",
    "    print(num)\n",
    "    num += 1"
   ]
  },
  {
   "cell_type": "code",
   "execution_count": 3,
   "metadata": {},
   "outputs": [
    {
     "name": "stdout",
     "output_type": "stream",
     "text": [
      "num is currently: 1\n",
      "num is less than 6, now adding 1 to num\n",
      "num is currently: 2\n",
      "num is less than 6, now adding 1 to num\n",
      "num is currently: 3\n",
      "num is less than 6, now adding 1 to num\n",
      "num is currently: 4\n",
      "num is less than 6, now adding 1 to num\n",
      "num is currently: 5\n",
      "num is less than 6, now adding 1 to num\n"
     ]
    }
   ],
   "source": [
    "num = 1\n",
    "while num < 6:\n",
    "    print('num is currently:',num)\n",
    "    print('num is less than 6, now adding 1 to num')\n",
    "    num += 1"
   ]
  },
  {
   "cell_type": "code",
   "execution_count": 4,
   "metadata": {
    "scrolled": true
   },
   "outputs": [
    {
     "name": "stdout",
     "output_type": "stream",
     "text": [
      "num is currently: 1\n",
      "num is less than 6, now adding 1 to num\n",
      "num is currently: 2\n",
      "num is less than 6, now adding 1 to num\n",
      "num is currently: 3\n",
      "num is less than 6, now adding 1 to num\n",
      "num is currently: 4\n",
      "num is less than 6, now adding 1 to num\n",
      "num is currently: 5\n",
      "num is less than 6, now adding 1 to num\n",
      "Now, the while condition is not true, num is currently: 6\n"
     ]
    }
   ],
   "source": [
    "num = 1\n",
    "while num < 6:\n",
    "    print('num is currently:',num)\n",
    "    print('num is less than 6, now adding 1 to num')\n",
    "    num += 1\n",
    "else:\n",
    "    print('Now, the while condition is not true, num is currently:',num)"
   ]
  },
  {
   "cell_type": "code",
   "execution_count": 5,
   "metadata": {},
   "outputs": [
    {
     "name": "stdout",
     "output_type": "stream",
     "text": [
      "num is currently: 1\n",
      "num is less than 6, now adding 1 to num if num != 5\n",
      "num is currently: 2\n",
      "num is less than 6, now adding 1 to num if num != 5\n",
      "num is currently: 3\n",
      "num is less than 6, now adding 1 to num if num != 5\n",
      "num is currently: 4\n",
      "num is less than 6, now adding 1 to num if num != 5\n",
      "num is currently: 5\n",
      "num is less than 6, now adding 1 to num if num != 5\n"
     ]
    }
   ],
   "source": [
    "num = 1\n",
    "while num < 6:\n",
    "    print('num is currently:',num)\n",
    "    print('num is less than 6, now adding 1 to num if num != 5')\n",
    "    if num == 5:\n",
    "        break\n",
    "    num += 1"
   ]
  },
  {
   "cell_type": "code",
   "execution_count": 6,
   "metadata": {},
   "outputs": [
    {
     "name": "stdout",
     "output_type": "stream",
     "text": [
      "num is currently: 2\n",
      "num is less than 10, now adding 1 to num\n",
      "num is currently: 4\n",
      "num is less than 10, now adding 1 to num\n",
      "num is currently: 6\n",
      "num is less than 10, now adding 1 to num\n",
      "num is currently: 8\n",
      "num is less than 10, now adding 1 to num\n",
      "num is currently: 10\n",
      "num is less than 10, now adding 1 to num\n"
     ]
    }
   ],
   "source": [
    "num = 0\n",
    "while num < 10:\n",
    "    num += 1\n",
    "    if num % 2 == 1:\n",
    "        pass\n",
    "    else:\n",
    "        print('num is currently:',num)\n",
    "        print('num is less than 10, now adding 1 to num')"
   ]
  },
  {
   "cell_type": "code",
   "execution_count": 7,
   "metadata": {},
   "outputs": [
    {
     "name": "stdout",
     "output_type": "stream",
     "text": [
      "num is currently: 2\n",
      "num is less than 10, now adding 1 to num\n",
      "num is currently: 4\n",
      "num is less than 10, now adding 1 to num\n",
      "num is currently: 6\n",
      "num is less than 10, now adding 1 to num\n",
      "num is currently: 8\n",
      "num is less than 10, now adding 1 to num\n",
      "num is currently: 10\n",
      "num is less than 10, now adding 1 to num\n"
     ]
    }
   ],
   "source": [
    "num = 0\n",
    "while num < 10:\n",
    "    num += 2\n",
    "    if num % 2 == 1:\n",
    "        pass\n",
    "    else:\n",
    "        print('num is currently:',num)\n",
    "        print('num is less than 10, now adding 1 to num')"
   ]
  },
  {
   "cell_type": "code",
   "execution_count": null,
   "metadata": {},
   "outputs": [],
   "source": []
  },
  {
   "cell_type": "code",
   "execution_count": null,
   "metadata": {},
   "outputs": [],
   "source": []
  }
 ],
 "metadata": {
  "kernelspec": {
   "display_name": "Python 3.7 - default",
   "language": "python",
   "name": "py37_default"
  },
  "language_info": {
   "codemirror_mode": {
    "name": "ipython",
    "version": 3
   },
   "file_extension": ".py",
   "mimetype": "text/x-python",
   "name": "python",
   "nbconvert_exporter": "python",
   "pygments_lexer": "ipython3",
   "version": "3.7.7"
  }
 },
 "nbformat": 4,
 "nbformat_minor": 4
}
