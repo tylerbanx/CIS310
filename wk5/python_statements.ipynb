{
 "cells": [
  {
   "cell_type": "markdown",
   "metadata": {},
   "source": [
    "# Tyler Banks\n",
    "## Week 5 - 2/19/21\n",
    "### Python Statements (if, else, elif)"
   ]
  },
  {
   "cell_type": "markdown",
   "metadata": {},
   "source": [
    "if condition1:\n",
    "    perform action1\n",
    "elif case2:\n",
    "    perform action2\n",
    "else:\n",
    "    perform action3"
   ]
  },
  {
   "cell_type": "code",
   "execution_count": 2,
   "metadata": {},
   "outputs": [
    {
     "name": "stdout",
     "output_type": "stream",
     "text": [
      "It was true.\n"
     ]
    }
   ],
   "source": [
    "if True:\n",
    "    print(\"It was true.\")\n"
   ]
  },
  {
   "cell_type": "code",
   "execution_count": 3,
   "metadata": {},
   "outputs": [
    {
     "name": "stdout",
     "output_type": "stream",
     "text": [
      "hi five!\n"
     ]
    }
   ],
   "source": [
    "value = 5\n",
    "\n",
    "if value == 5:\n",
    "    print(\"hi five!\")\n",
    "else:\n",
    "    print(\"let us try again, value did not equal 5\")"
   ]
  },
  {
   "cell_type": "code",
   "execution_count": 4,
   "metadata": {},
   "outputs": [],
   "source": [
    "value = 4"
   ]
  },
  {
   "cell_type": "code",
   "execution_count": 5,
   "metadata": {},
   "outputs": [
    {
     "name": "stdout",
     "output_type": "stream",
     "text": [
      "let us try again, value did not equal 5\n"
     ]
    }
   ],
   "source": [
    "\n",
    "if value == 5:\n",
    "    print(\"hi five!\")\n",
    "else:\n",
    "    print(\"let us try again, value did not equal 5\")"
   ]
  },
  {
   "cell_type": "code",
   "execution_count": 10,
   "metadata": {},
   "outputs": [
    {
     "name": "stdout",
     "output_type": "stream",
     "text": [
      "you may redo test2\n"
     ]
    }
   ],
   "source": [
    "test1 = 98\n",
    "test2 = 87\n",
    "\n",
    "if test2<test1:\n",
    "    print(\"you may redo test2\")\n",
    "else: \n",
    "    print(\"then, redo test1\")"
   ]
  },
  {
   "cell_type": "code",
   "execution_count": 11,
   "metadata": {},
   "outputs": [
    {
     "name": "stdout",
     "output_type": "stream",
     "text": [
      "you may redo the test\n"
     ]
    }
   ],
   "source": [
    "#make sure to use identation, otherwise you will not\n",
    "if test2<test1:\n",
    "    print(\"you may redo the test\")"
   ]
  },
  {
   "cell_type": "code",
   "execution_count": 12,
   "metadata": {},
   "outputs": [
    {
     "name": "stdout",
     "output_type": "stream",
     "text": [
      "test1 is greater than test2\n",
      "you should think about retaking test2\n"
     ]
    }
   ],
   "source": [
    "if test1 > test2:\n",
    "    print(\"test1 is greater than test2\")\n",
    "    print(\"you should think about retaking test2\")\n",
    "elif test2 > test1:\n",
    "    print(\"test2 is greater than test1\")\n",
    "    print(\"you should consider retaking test1\")\n",
    "else:\n",
    "    print(\"the scores are equal. either you do not need to consider retaking, or you should consider retaking both tests\")"
   ]
  },
  {
   "cell_type": "code",
   "execution_count": 13,
   "metadata": {},
   "outputs": [
    {
     "name": "stdout",
     "output_type": "stream",
     "text": [
      "test1 is greater than test 2\n"
     ]
    }
   ],
   "source": [
    "#short hand\n",
    "if test1 > test2: print(\"test1 is greater than test 2\")"
   ]
  },
  {
   "cell_type": "code",
   "execution_count": 15,
   "metadata": {},
   "outputs": [
    {
     "name": "stdout",
     "output_type": "stream",
     "text": [
      "test1\n"
     ]
    }
   ],
   "source": [
    "#short hand if... else\n",
    "print(\"test1\") if test1>test2 else print(\"test2\")"
   ]
  },
  {
   "cell_type": "code",
   "execution_count": 1,
   "metadata": {},
   "outputs": [
    {
     "name": "stdout",
     "output_type": "stream",
     "text": [
      "Welcome to Colorado\n"
     ]
    }
   ],
   "source": [
    "s = \"Colorado\"\n",
    "\n",
    "if s == \"Colorado\":\n",
    "    print(\"Welcome to Colorado\")\n",
    "elif s == \"Florida\":\n",
    "    print(\"Welcome to Florida\")\n",
    "elif s == \"Virginia\":\n",
    "    print(\"Virginia\")\n",
    "else:\n",
    "    print(\"Where are you?\")"
   ]
  },
  {
   "cell_type": "code",
   "execution_count": 2,
   "metadata": {},
   "outputs": [],
   "source": [
    "s = \"Virginia\""
   ]
  },
  {
   "cell_type": "code",
   "execution_count": 3,
   "metadata": {},
   "outputs": [
    {
     "name": "stdout",
     "output_type": "stream",
     "text": [
      "Virginia\n"
     ]
    }
   ],
   "source": [
    "if s == \"Colorado\":\n",
    "    print(\"Welcome to Colorado\")\n",
    "elif s == \"Florida\":\n",
    "    print(\"Welcome to Florida\")\n",
    "elif s == \"Virginia\":\n",
    "    print(\"Virginia\")\n",
    "else:\n",
    "    print(\"Where are you?\")"
   ]
  },
  {
   "cell_type": "code",
   "execution_count": 4,
   "metadata": {},
   "outputs": [
    {
     "name": "stdout",
     "output_type": "stream",
     "text": [
      "Both conditions are evaluated to true!\n"
     ]
    }
   ],
   "source": [
    "#And\n",
    "s1 = 89\n",
    "s2 = 75\n",
    "s3 = 92\n",
    "\n",
    "if s1 > s2 and s3 > s2:\n",
    "    print (\"Both conditions are evaluated to true!\")"
   ]
  },
  {
   "cell_type": "code",
   "execution_count": 6,
   "metadata": {},
   "outputs": [
    {
     "name": "stdout",
     "output_type": "stream",
     "text": [
      "both statements are false\n"
     ]
    }
   ],
   "source": [
    "#or logical operator\n",
    "\n",
    "if s1 < s2 or s3 < s2:\n",
    "    print(\"one of the following is correct\")\n",
    "else:\n",
    "    print(\"both statements are false\")"
   ]
  },
  {
   "cell_type": "code",
   "execution_count": 7,
   "metadata": {},
   "outputs": [
    {
     "name": "stdout",
     "output_type": "stream",
     "text": [
      "Above 40,\n",
      "and also above 60.\n"
     ]
    }
   ],
   "source": [
    "#nested if statement\n",
    "s1 = 80\n",
    "\n",
    "if s1 > 40:\n",
    "    print(\"Above 40,\")\n",
    "    if s1 > 60:\n",
    "        print(\"and also above 60.\")\n",
    "    else:\n",
    "        print(\"but not above 60.\")"
   ]
  },
  {
   "cell_type": "code",
   "execution_count": 8,
   "metadata": {},
   "outputs": [],
   "source": [
    "if s1 > 60:\n",
    "    pass"
   ]
  },
  {
   "cell_type": "code",
   "execution_count": null,
   "metadata": {},
   "outputs": [],
   "source": []
  },
  {
   "cell_type": "code",
   "execution_count": null,
   "metadata": {},
   "outputs": [],
   "source": []
  },
  {
   "cell_type": "code",
   "execution_count": null,
   "metadata": {},
   "outputs": [],
   "source": []
  }
 ],
 "metadata": {
  "kernelspec": {
   "display_name": "Python 3.7 - default",
   "language": "python",
   "name": "py37_default"
  },
  "language_info": {
   "codemirror_mode": {
    "name": "ipython",
    "version": 3
   },
   "file_extension": ".py",
   "mimetype": "text/x-python",
   "name": "python",
   "nbconvert_exporter": "python",
   "pygments_lexer": "ipython3",
   "version": "3.7.7"
  }
 },
 "nbformat": 4,
 "nbformat_minor": 4
}
